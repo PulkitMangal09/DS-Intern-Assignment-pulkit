{
  "nbformat": 4,
  "nbformat_minor": 0,
  "metadata": {
    "colab": {
      "provenance": []
    },
    "kernelspec": {
      "name": "python3",
      "display_name": "Python 3"
    },
    "language_info": {
      "name": "python"
    }
  },
  "cells": [
    {
      "cell_type": "markdown",
      "source": [
        "# Importing necessary libraries"
      ],
      "metadata": {
        "id": "8cf_1KYuyU_B"
      }
    },
    {
      "cell_type": "code",
      "execution_count": 369,
      "metadata": {
        "id": "aozYvGqcyGMt"
      },
      "outputs": [],
      "source": [
        "import pandas as pd\n",
        "import numpy as np\n",
        "import seaborn as sns\n",
        "import matplotlib.pyplot as plt\n",
        "from sklearn.impute import SimpleImputer"
      ]
    },
    {
      "cell_type": "markdown",
      "source": [
        "# Loading the dataset"
      ],
      "metadata": {
        "id": "TxjDilFKyZn9"
      }
    },
    {
      "cell_type": "code",
      "source": [
        "df = pd.read_csv('data.csv')"
      ],
      "metadata": {
        "id": "afbg1uA7ybgP"
      },
      "execution_count": 370,
      "outputs": []
    },
    {
      "cell_type": "markdown",
      "source": [
        "### Understand the Data Structure"
      ],
      "metadata": {
        "id": "iQFL-6RXyhOH"
      }
    },
    {
      "cell_type": "code",
      "source": [
        "df.shape"
      ],
      "metadata": {
        "colab": {
          "base_uri": "https://localhost:8080/"
        },
        "id": "zUb4K0T3yf1o",
        "outputId": "4526230a-8694-41fc-b017-7c61c993d46b"
      },
      "execution_count": 371,
      "outputs": [
        {
          "output_type": "execute_result",
          "data": {
            "text/plain": [
              "(16857, 29)"
            ]
          },
          "metadata": {},
          "execution_count": 371
        }
      ]
    },
    {
      "cell_type": "code",
      "source": [
        "df.info()"
      ],
      "metadata": {
        "colab": {
          "base_uri": "https://localhost:8080/"
        },
        "id": "J0LBfqgDykC4",
        "outputId": "6e9767b2-adf8-4000-b3c8-3c1cdbde4337"
      },
      "execution_count": 372,
      "outputs": [
        {
          "output_type": "stream",
          "name": "stdout",
          "text": [
            "<class 'pandas.core.frame.DataFrame'>\n",
            "RangeIndex: 16857 entries, 0 to 16856\n",
            "Data columns (total 29 columns):\n",
            " #   Column                        Non-Null Count  Dtype  \n",
            "---  ------                        --------------  -----  \n",
            " 0   timestamp                     16857 non-null  object \n",
            " 1   equipment_energy_consumption  16013 non-null  object \n",
            " 2   lighting_energy               16048 non-null  object \n",
            " 3   zone1_temperature             15990 non-null  object \n",
            " 4   zone1_humidity                16056 non-null  object \n",
            " 5   zone2_temperature             16004 non-null  object \n",
            " 6   zone2_humidity                15990 non-null  float64\n",
            " 7   zone3_temperature             16055 non-null  float64\n",
            " 8   zone3_humidity                15979 non-null  float64\n",
            " 9   zone4_temperature             16041 non-null  float64\n",
            " 10  zone4_humidity                16076 non-null  float64\n",
            " 11  zone5_temperature             16019 non-null  float64\n",
            " 12  zone5_humidity                16056 non-null  float64\n",
            " 13  zone6_temperature             16009 non-null  float64\n",
            " 14  zone6_humidity                16010 non-null  float64\n",
            " 15  zone7_temperature             16063 non-null  float64\n",
            " 16  zone7_humidity                16052 non-null  float64\n",
            " 17  zone8_temperature             16009 non-null  float64\n",
            " 18  zone8_humidity                16080 non-null  float64\n",
            " 19  zone9_temperature             16084 non-null  float64\n",
            " 20  zone9_humidity                15969 non-null  float64\n",
            " 21  outdoor_temperature           16051 non-null  float64\n",
            " 22  atmospheric_pressure          16015 non-null  float64\n",
            " 23  outdoor_humidity              16058 non-null  float64\n",
            " 24  wind_speed                    16029 non-null  float64\n",
            " 25  visibility_index              16042 non-null  float64\n",
            " 26  dew_point                     16031 non-null  float64\n",
            " 27  random_variable1              16031 non-null  float64\n",
            " 28  random_variable2              16033 non-null  float64\n",
            "dtypes: float64(23), object(6)\n",
            "memory usage: 3.7+ MB\n"
          ]
        }
      ]
    },
    {
      "cell_type": "code",
      "source": [
        "df.describe()"
      ],
      "metadata": {
        "colab": {
          "base_uri": "https://localhost:8080/",
          "height": 349
        },
        "id": "WVNsDyf_ylSe",
        "outputId": "d18831c7-171f-4e8d-8dc0-5446bf0d8d25"
      },
      "execution_count": 373,
      "outputs": [
        {
          "output_type": "execute_result",
          "data": {
            "text/plain": [
              "       zone2_humidity  zone3_temperature  zone3_humidity  zone4_temperature  \\\n",
              "count    15990.000000       16055.000000    15979.000000       16041.000000   \n",
              "mean        39.494553          21.665733       38.201314          20.239922   \n",
              "std         10.129513           2.594309       10.144388           2.783050   \n",
              "min        -77.265503           6.543921      -71.406273           4.613485   \n",
              "25%         37.757500          20.533333       36.592500          19.266667   \n",
              "50%         40.293333          21.767500       38.400000          20.290000   \n",
              "75%         43.000000          22.760000       41.433333          21.356667   \n",
              "max         77.265503          36.823982       71.406273          35.921144   \n",
              "\n",
              "       zone4_humidity  zone5_temperature  zone5_humidity  zone6_temperature  \\\n",
              "count    16076.000000       16019.000000    16056.000000       16009.000000   \n",
              "mean        37.945608          19.052613       50.289131           6.469934   \n",
              "std         10.769813           2.346158       18.722516           8.867993   \n",
              "min        -81.446225           5.921094     -141.640143         -42.987365   \n",
              "25%         35.200000          18.061111       45.290000           2.930000   \n",
              "50%         38.090000          19.050000       48.854429           6.263333   \n",
              "75%         41.560833          20.100000       53.918333           9.690000   \n",
              "max         81.446225          32.157594      141.640143          55.932271   \n",
              "\n",
              "       zone6_humidity  zone7_temperature  ...  zone9_temperature  \\\n",
              "count    16010.000000       16063.000000  ...       16084.000000   \n",
              "mean        59.162913          19.672472  ...          18.851085   \n",
              "std         52.657787           2.879815  ...           2.528783   \n",
              "min       -353.393026           3.578021  ...           4.476511   \n",
              "25%         37.066667          18.500000  ...          17.890000   \n",
              "50%         62.766667          19.600000  ...          18.890000   \n",
              "75%         86.590000          21.000000  ...          20.200000   \n",
              "max        353.393026          35.712952  ...          33.238012   \n",
              "\n",
              "       zone9_humidity  outdoor_temperature  atmospheric_pressure  \\\n",
              "count    15969.000000         16051.000000          16015.000000   \n",
              "mean        40.318199             6.218582            755.757602   \n",
              "std         11.168678             7.554684             13.643585   \n",
              "min        -81.582494           -37.524768            678.159940   \n",
              "25%         38.230000             3.000000            750.800000   \n",
              "50%         40.363333             6.000000            756.200000   \n",
              "75%         43.790000             9.250000            762.100000   \n",
              "max         81.582494            49.853906            833.392675   \n",
              "\n",
              "       outdoor_humidity    wind_speed  visibility_index     dew_point  \\\n",
              "count      16058.000000  16029.000000      16042.000000  16031.000000   \n",
              "mean          78.977595      4.195988         38.457150      2.783507   \n",
              "std           28.565660      4.409729         21.318655      6.094732   \n",
              "min         -221.668765    -20.929527        -82.329792    -32.098095   \n",
              "25%           71.000000      2.000000         29.000000      0.450000   \n",
              "50%           84.166667      4.000000         40.000000      2.750000   \n",
              "75%           91.988095      6.000000         40.000000      5.308333   \n",
              "max          221.668765     29.318719        159.606156     37.673716   \n",
              "\n",
              "       random_variable1  random_variable2  \n",
              "count      16031.000000      16033.000000  \n",
              "mean          24.854981         25.093780  \n",
              "std           26.214960         25.523631  \n",
              "min         -120.170177       -120.409590  \n",
              "25%           12.179924         12.193789  \n",
              "50%           24.866978         24.834261  \n",
              "75%           37.950236         37.971764  \n",
              "max          170.156325        170.329617  \n",
              "\n",
              "[8 rows x 23 columns]"
            ],
            "text/html": [
              "\n",
              "  <div id=\"df-488d3ec1-4c07-4d24-8e0b-dab468133fee\" class=\"colab-df-container\">\n",
              "    <div>\n",
              "<style scoped>\n",
              "    .dataframe tbody tr th:only-of-type {\n",
              "        vertical-align: middle;\n",
              "    }\n",
              "\n",
              "    .dataframe tbody tr th {\n",
              "        vertical-align: top;\n",
              "    }\n",
              "\n",
              "    .dataframe thead th {\n",
              "        text-align: right;\n",
              "    }\n",
              "</style>\n",
              "<table border=\"1\" class=\"dataframe\">\n",
              "  <thead>\n",
              "    <tr style=\"text-align: right;\">\n",
              "      <th></th>\n",
              "      <th>zone2_humidity</th>\n",
              "      <th>zone3_temperature</th>\n",
              "      <th>zone3_humidity</th>\n",
              "      <th>zone4_temperature</th>\n",
              "      <th>zone4_humidity</th>\n",
              "      <th>zone5_temperature</th>\n",
              "      <th>zone5_humidity</th>\n",
              "      <th>zone6_temperature</th>\n",
              "      <th>zone6_humidity</th>\n",
              "      <th>zone7_temperature</th>\n",
              "      <th>...</th>\n",
              "      <th>zone9_temperature</th>\n",
              "      <th>zone9_humidity</th>\n",
              "      <th>outdoor_temperature</th>\n",
              "      <th>atmospheric_pressure</th>\n",
              "      <th>outdoor_humidity</th>\n",
              "      <th>wind_speed</th>\n",
              "      <th>visibility_index</th>\n",
              "      <th>dew_point</th>\n",
              "      <th>random_variable1</th>\n",
              "      <th>random_variable2</th>\n",
              "    </tr>\n",
              "  </thead>\n",
              "  <tbody>\n",
              "    <tr>\n",
              "      <th>count</th>\n",
              "      <td>15990.000000</td>\n",
              "      <td>16055.000000</td>\n",
              "      <td>15979.000000</td>\n",
              "      <td>16041.000000</td>\n",
              "      <td>16076.000000</td>\n",
              "      <td>16019.000000</td>\n",
              "      <td>16056.000000</td>\n",
              "      <td>16009.000000</td>\n",
              "      <td>16010.000000</td>\n",
              "      <td>16063.000000</td>\n",
              "      <td>...</td>\n",
              "      <td>16084.000000</td>\n",
              "      <td>15969.000000</td>\n",
              "      <td>16051.000000</td>\n",
              "      <td>16015.000000</td>\n",
              "      <td>16058.000000</td>\n",
              "      <td>16029.000000</td>\n",
              "      <td>16042.000000</td>\n",
              "      <td>16031.000000</td>\n",
              "      <td>16031.000000</td>\n",
              "      <td>16033.000000</td>\n",
              "    </tr>\n",
              "    <tr>\n",
              "      <th>mean</th>\n",
              "      <td>39.494553</td>\n",
              "      <td>21.665733</td>\n",
              "      <td>38.201314</td>\n",
              "      <td>20.239922</td>\n",
              "      <td>37.945608</td>\n",
              "      <td>19.052613</td>\n",
              "      <td>50.289131</td>\n",
              "      <td>6.469934</td>\n",
              "      <td>59.162913</td>\n",
              "      <td>19.672472</td>\n",
              "      <td>...</td>\n",
              "      <td>18.851085</td>\n",
              "      <td>40.318199</td>\n",
              "      <td>6.218582</td>\n",
              "      <td>755.757602</td>\n",
              "      <td>78.977595</td>\n",
              "      <td>4.195988</td>\n",
              "      <td>38.457150</td>\n",
              "      <td>2.783507</td>\n",
              "      <td>24.854981</td>\n",
              "      <td>25.093780</td>\n",
              "    </tr>\n",
              "    <tr>\n",
              "      <th>std</th>\n",
              "      <td>10.129513</td>\n",
              "      <td>2.594309</td>\n",
              "      <td>10.144388</td>\n",
              "      <td>2.783050</td>\n",
              "      <td>10.769813</td>\n",
              "      <td>2.346158</td>\n",
              "      <td>18.722516</td>\n",
              "      <td>8.867993</td>\n",
              "      <td>52.657787</td>\n",
              "      <td>2.879815</td>\n",
              "      <td>...</td>\n",
              "      <td>2.528783</td>\n",
              "      <td>11.168678</td>\n",
              "      <td>7.554684</td>\n",
              "      <td>13.643585</td>\n",
              "      <td>28.565660</td>\n",
              "      <td>4.409729</td>\n",
              "      <td>21.318655</td>\n",
              "      <td>6.094732</td>\n",
              "      <td>26.214960</td>\n",
              "      <td>25.523631</td>\n",
              "    </tr>\n",
              "    <tr>\n",
              "      <th>min</th>\n",
              "      <td>-77.265503</td>\n",
              "      <td>6.543921</td>\n",
              "      <td>-71.406273</td>\n",
              "      <td>4.613485</td>\n",
              "      <td>-81.446225</td>\n",
              "      <td>5.921094</td>\n",
              "      <td>-141.640143</td>\n",
              "      <td>-42.987365</td>\n",
              "      <td>-353.393026</td>\n",
              "      <td>3.578021</td>\n",
              "      <td>...</td>\n",
              "      <td>4.476511</td>\n",
              "      <td>-81.582494</td>\n",
              "      <td>-37.524768</td>\n",
              "      <td>678.159940</td>\n",
              "      <td>-221.668765</td>\n",
              "      <td>-20.929527</td>\n",
              "      <td>-82.329792</td>\n",
              "      <td>-32.098095</td>\n",
              "      <td>-120.170177</td>\n",
              "      <td>-120.409590</td>\n",
              "    </tr>\n",
              "    <tr>\n",
              "      <th>25%</th>\n",
              "      <td>37.757500</td>\n",
              "      <td>20.533333</td>\n",
              "      <td>36.592500</td>\n",
              "      <td>19.266667</td>\n",
              "      <td>35.200000</td>\n",
              "      <td>18.061111</td>\n",
              "      <td>45.290000</td>\n",
              "      <td>2.930000</td>\n",
              "      <td>37.066667</td>\n",
              "      <td>18.500000</td>\n",
              "      <td>...</td>\n",
              "      <td>17.890000</td>\n",
              "      <td>38.230000</td>\n",
              "      <td>3.000000</td>\n",
              "      <td>750.800000</td>\n",
              "      <td>71.000000</td>\n",
              "      <td>2.000000</td>\n",
              "      <td>29.000000</td>\n",
              "      <td>0.450000</td>\n",
              "      <td>12.179924</td>\n",
              "      <td>12.193789</td>\n",
              "    </tr>\n",
              "    <tr>\n",
              "      <th>50%</th>\n",
              "      <td>40.293333</td>\n",
              "      <td>21.767500</td>\n",
              "      <td>38.400000</td>\n",
              "      <td>20.290000</td>\n",
              "      <td>38.090000</td>\n",
              "      <td>19.050000</td>\n",
              "      <td>48.854429</td>\n",
              "      <td>6.263333</td>\n",
              "      <td>62.766667</td>\n",
              "      <td>19.600000</td>\n",
              "      <td>...</td>\n",
              "      <td>18.890000</td>\n",
              "      <td>40.363333</td>\n",
              "      <td>6.000000</td>\n",
              "      <td>756.200000</td>\n",
              "      <td>84.166667</td>\n",
              "      <td>4.000000</td>\n",
              "      <td>40.000000</td>\n",
              "      <td>2.750000</td>\n",
              "      <td>24.866978</td>\n",
              "      <td>24.834261</td>\n",
              "    </tr>\n",
              "    <tr>\n",
              "      <th>75%</th>\n",
              "      <td>43.000000</td>\n",
              "      <td>22.760000</td>\n",
              "      <td>41.433333</td>\n",
              "      <td>21.356667</td>\n",
              "      <td>41.560833</td>\n",
              "      <td>20.100000</td>\n",
              "      <td>53.918333</td>\n",
              "      <td>9.690000</td>\n",
              "      <td>86.590000</td>\n",
              "      <td>21.000000</td>\n",
              "      <td>...</td>\n",
              "      <td>20.200000</td>\n",
              "      <td>43.790000</td>\n",
              "      <td>9.250000</td>\n",
              "      <td>762.100000</td>\n",
              "      <td>91.988095</td>\n",
              "      <td>6.000000</td>\n",
              "      <td>40.000000</td>\n",
              "      <td>5.308333</td>\n",
              "      <td>37.950236</td>\n",
              "      <td>37.971764</td>\n",
              "    </tr>\n",
              "    <tr>\n",
              "      <th>max</th>\n",
              "      <td>77.265503</td>\n",
              "      <td>36.823982</td>\n",
              "      <td>71.406273</td>\n",
              "      <td>35.921144</td>\n",
              "      <td>81.446225</td>\n",
              "      <td>32.157594</td>\n",
              "      <td>141.640143</td>\n",
              "      <td>55.932271</td>\n",
              "      <td>353.393026</td>\n",
              "      <td>35.712952</td>\n",
              "      <td>...</td>\n",
              "      <td>33.238012</td>\n",
              "      <td>81.582494</td>\n",
              "      <td>49.853906</td>\n",
              "      <td>833.392675</td>\n",
              "      <td>221.668765</td>\n",
              "      <td>29.318719</td>\n",
              "      <td>159.606156</td>\n",
              "      <td>37.673716</td>\n",
              "      <td>170.156325</td>\n",
              "      <td>170.329617</td>\n",
              "    </tr>\n",
              "  </tbody>\n",
              "</table>\n",
              "<p>8 rows × 23 columns</p>\n",
              "</div>\n",
              "    <div class=\"colab-df-buttons\">\n",
              "\n",
              "  <div class=\"colab-df-container\">\n",
              "    <button class=\"colab-df-convert\" onclick=\"convertToInteractive('df-488d3ec1-4c07-4d24-8e0b-dab468133fee')\"\n",
              "            title=\"Convert this dataframe to an interactive table.\"\n",
              "            style=\"display:none;\">\n",
              "\n",
              "  <svg xmlns=\"http://www.w3.org/2000/svg\" height=\"24px\" viewBox=\"0 -960 960 960\">\n",
              "    <path d=\"M120-120v-720h720v720H120Zm60-500h600v-160H180v160Zm220 220h160v-160H400v160Zm0 220h160v-160H400v160ZM180-400h160v-160H180v160Zm440 0h160v-160H620v160ZM180-180h160v-160H180v160Zm440 0h160v-160H620v160Z\"/>\n",
              "  </svg>\n",
              "    </button>\n",
              "\n",
              "  <style>\n",
              "    .colab-df-container {\n",
              "      display:flex;\n",
              "      gap: 12px;\n",
              "    }\n",
              "\n",
              "    .colab-df-convert {\n",
              "      background-color: #E8F0FE;\n",
              "      border: none;\n",
              "      border-radius: 50%;\n",
              "      cursor: pointer;\n",
              "      display: none;\n",
              "      fill: #1967D2;\n",
              "      height: 32px;\n",
              "      padding: 0 0 0 0;\n",
              "      width: 32px;\n",
              "    }\n",
              "\n",
              "    .colab-df-convert:hover {\n",
              "      background-color: #E2EBFA;\n",
              "      box-shadow: 0px 1px 2px rgba(60, 64, 67, 0.3), 0px 1px 3px 1px rgba(60, 64, 67, 0.15);\n",
              "      fill: #174EA6;\n",
              "    }\n",
              "\n",
              "    .colab-df-buttons div {\n",
              "      margin-bottom: 4px;\n",
              "    }\n",
              "\n",
              "    [theme=dark] .colab-df-convert {\n",
              "      background-color: #3B4455;\n",
              "      fill: #D2E3FC;\n",
              "    }\n",
              "\n",
              "    [theme=dark] .colab-df-convert:hover {\n",
              "      background-color: #434B5C;\n",
              "      box-shadow: 0px 1px 3px 1px rgba(0, 0, 0, 0.15);\n",
              "      filter: drop-shadow(0px 1px 2px rgba(0, 0, 0, 0.3));\n",
              "      fill: #FFFFFF;\n",
              "    }\n",
              "  </style>\n",
              "\n",
              "    <script>\n",
              "      const buttonEl =\n",
              "        document.querySelector('#df-488d3ec1-4c07-4d24-8e0b-dab468133fee button.colab-df-convert');\n",
              "      buttonEl.style.display =\n",
              "        google.colab.kernel.accessAllowed ? 'block' : 'none';\n",
              "\n",
              "      async function convertToInteractive(key) {\n",
              "        const element = document.querySelector('#df-488d3ec1-4c07-4d24-8e0b-dab468133fee');\n",
              "        const dataTable =\n",
              "          await google.colab.kernel.invokeFunction('convertToInteractive',\n",
              "                                                    [key], {});\n",
              "        if (!dataTable) return;\n",
              "\n",
              "        const docLinkHtml = 'Like what you see? Visit the ' +\n",
              "          '<a target=\"_blank\" href=https://colab.research.google.com/notebooks/data_table.ipynb>data table notebook</a>'\n",
              "          + ' to learn more about interactive tables.';\n",
              "        element.innerHTML = '';\n",
              "        dataTable['output_type'] = 'display_data';\n",
              "        await google.colab.output.renderOutput(dataTable, element);\n",
              "        const docLink = document.createElement('div');\n",
              "        docLink.innerHTML = docLinkHtml;\n",
              "        element.appendChild(docLink);\n",
              "      }\n",
              "    </script>\n",
              "  </div>\n",
              "\n",
              "\n",
              "    <div id=\"df-b69305b3-cd38-44f2-ae81-e37ad8fb2e28\">\n",
              "      <button class=\"colab-df-quickchart\" onclick=\"quickchart('df-b69305b3-cd38-44f2-ae81-e37ad8fb2e28')\"\n",
              "                title=\"Suggest charts\"\n",
              "                style=\"display:none;\">\n",
              "\n",
              "<svg xmlns=\"http://www.w3.org/2000/svg\" height=\"24px\"viewBox=\"0 0 24 24\"\n",
              "     width=\"24px\">\n",
              "    <g>\n",
              "        <path d=\"M19 3H5c-1.1 0-2 .9-2 2v14c0 1.1.9 2 2 2h14c1.1 0 2-.9 2-2V5c0-1.1-.9-2-2-2zM9 17H7v-7h2v7zm4 0h-2V7h2v10zm4 0h-2v-4h2v4z\"/>\n",
              "    </g>\n",
              "</svg>\n",
              "      </button>\n",
              "\n",
              "<style>\n",
              "  .colab-df-quickchart {\n",
              "      --bg-color: #E8F0FE;\n",
              "      --fill-color: #1967D2;\n",
              "      --hover-bg-color: #E2EBFA;\n",
              "      --hover-fill-color: #174EA6;\n",
              "      --disabled-fill-color: #AAA;\n",
              "      --disabled-bg-color: #DDD;\n",
              "  }\n",
              "\n",
              "  [theme=dark] .colab-df-quickchart {\n",
              "      --bg-color: #3B4455;\n",
              "      --fill-color: #D2E3FC;\n",
              "      --hover-bg-color: #434B5C;\n",
              "      --hover-fill-color: #FFFFFF;\n",
              "      --disabled-bg-color: #3B4455;\n",
              "      --disabled-fill-color: #666;\n",
              "  }\n",
              "\n",
              "  .colab-df-quickchart {\n",
              "    background-color: var(--bg-color);\n",
              "    border: none;\n",
              "    border-radius: 50%;\n",
              "    cursor: pointer;\n",
              "    display: none;\n",
              "    fill: var(--fill-color);\n",
              "    height: 32px;\n",
              "    padding: 0;\n",
              "    width: 32px;\n",
              "  }\n",
              "\n",
              "  .colab-df-quickchart:hover {\n",
              "    background-color: var(--hover-bg-color);\n",
              "    box-shadow: 0 1px 2px rgba(60, 64, 67, 0.3), 0 1px 3px 1px rgba(60, 64, 67, 0.15);\n",
              "    fill: var(--button-hover-fill-color);\n",
              "  }\n",
              "\n",
              "  .colab-df-quickchart-complete:disabled,\n",
              "  .colab-df-quickchart-complete:disabled:hover {\n",
              "    background-color: var(--disabled-bg-color);\n",
              "    fill: var(--disabled-fill-color);\n",
              "    box-shadow: none;\n",
              "  }\n",
              "\n",
              "  .colab-df-spinner {\n",
              "    border: 2px solid var(--fill-color);\n",
              "    border-color: transparent;\n",
              "    border-bottom-color: var(--fill-color);\n",
              "    animation:\n",
              "      spin 1s steps(1) infinite;\n",
              "  }\n",
              "\n",
              "  @keyframes spin {\n",
              "    0% {\n",
              "      border-color: transparent;\n",
              "      border-bottom-color: var(--fill-color);\n",
              "      border-left-color: var(--fill-color);\n",
              "    }\n",
              "    20% {\n",
              "      border-color: transparent;\n",
              "      border-left-color: var(--fill-color);\n",
              "      border-top-color: var(--fill-color);\n",
              "    }\n",
              "    30% {\n",
              "      border-color: transparent;\n",
              "      border-left-color: var(--fill-color);\n",
              "      border-top-color: var(--fill-color);\n",
              "      border-right-color: var(--fill-color);\n",
              "    }\n",
              "    40% {\n",
              "      border-color: transparent;\n",
              "      border-right-color: var(--fill-color);\n",
              "      border-top-color: var(--fill-color);\n",
              "    }\n",
              "    60% {\n",
              "      border-color: transparent;\n",
              "      border-right-color: var(--fill-color);\n",
              "    }\n",
              "    80% {\n",
              "      border-color: transparent;\n",
              "      border-right-color: var(--fill-color);\n",
              "      border-bottom-color: var(--fill-color);\n",
              "    }\n",
              "    90% {\n",
              "      border-color: transparent;\n",
              "      border-bottom-color: var(--fill-color);\n",
              "    }\n",
              "  }\n",
              "</style>\n",
              "\n",
              "      <script>\n",
              "        async function quickchart(key) {\n",
              "          const quickchartButtonEl =\n",
              "            document.querySelector('#' + key + ' button');\n",
              "          quickchartButtonEl.disabled = true;  // To prevent multiple clicks.\n",
              "          quickchartButtonEl.classList.add('colab-df-spinner');\n",
              "          try {\n",
              "            const charts = await google.colab.kernel.invokeFunction(\n",
              "                'suggestCharts', [key], {});\n",
              "          } catch (error) {\n",
              "            console.error('Error during call to suggestCharts:', error);\n",
              "          }\n",
              "          quickchartButtonEl.classList.remove('colab-df-spinner');\n",
              "          quickchartButtonEl.classList.add('colab-df-quickchart-complete');\n",
              "        }\n",
              "        (() => {\n",
              "          let quickchartButtonEl =\n",
              "            document.querySelector('#df-b69305b3-cd38-44f2-ae81-e37ad8fb2e28 button');\n",
              "          quickchartButtonEl.style.display =\n",
              "            google.colab.kernel.accessAllowed ? 'block' : 'none';\n",
              "        })();\n",
              "      </script>\n",
              "    </div>\n",
              "\n",
              "    </div>\n",
              "  </div>\n"
            ],
            "application/vnd.google.colaboratory.intrinsic+json": {
              "type": "dataframe"
            }
          },
          "metadata": {},
          "execution_count": 373
        }
      ]
    },
    {
      "cell_type": "markdown",
      "source": [
        "# Steps to follow\n",
        "\n",
        "* Cleaning the dataset\n",
        "  - Remove duplicates\n",
        "  - Identify outliers\n",
        "  - Check and impute null values\n",
        "  - Remove outliers\n",
        "* Perform Feature Engineering\n",
        "    - Heatmap\n",
        "    - RFE\n",
        "    - chisquare test for random_variable 1 and 2\n",
        "    - Multicollinearity Check: Use VIF (Variance Inflation Factor)\n",
        "    - Datetime Decomposition: Extract hour, weekday, month, etc.\n",
        "    - Scale/normalize if needed"
      ],
      "metadata": {
        "id": "gUwLreA9ysT9"
      }
    },
    {
      "cell_type": "markdown",
      "source": [
        "Drop Duplicates"
      ],
      "metadata": {
        "id": "Ehf-z1Wkyyo3"
      }
    },
    {
      "cell_type": "code",
      "source": [
        "df.duplicated().sum()"
      ],
      "metadata": {
        "colab": {
          "base_uri": "https://localhost:8080/"
        },
        "id": "Wn_pvjyby2tZ",
        "outputId": "222396cb-155f-4d00-c701-e673913985f9"
      },
      "execution_count": 374,
      "outputs": [
        {
          "output_type": "execute_result",
          "data": {
            "text/plain": [
              "np.int64(68)"
            ]
          },
          "metadata": {},
          "execution_count": 374
        }
      ]
    },
    {
      "cell_type": "code",
      "source": [
        "df = df.drop_duplicates()\n",
        "df.shape"
      ],
      "metadata": {
        "colab": {
          "base_uri": "https://localhost:8080/"
        },
        "id": "l8J8e-YOys7Z",
        "outputId": "3a570f16-ed6c-4d8f-fdc1-458c6044e126"
      },
      "execution_count": 375,
      "outputs": [
        {
          "output_type": "execute_result",
          "data": {
            "text/plain": [
              "(16789, 29)"
            ]
          },
          "metadata": {},
          "execution_count": 375
        }
      ]
    },
    {
      "cell_type": "markdown",
      "source": [
        "Check for missing values"
      ],
      "metadata": {
        "id": "Px_P719ny4yY"
      }
    },
    {
      "cell_type": "code",
      "source": [
        "df.isnull().sum().sort_values(ascending=False)"
      ],
      "metadata": {
        "colab": {
          "base_uri": "https://localhost:8080/",
          "height": 993
        },
        "id": "vj4EhQxRy6nH",
        "outputId": "4c90ffdc-3a1e-460a-ec1e-2e389ba04593"
      },
      "execution_count": 376,
      "outputs": [
        {
          "output_type": "execute_result",
          "data": {
            "text/plain": [
              "zone9_humidity                  886\n",
              "zone3_humidity                  877\n",
              "zone2_humidity                  863\n",
              "zone1_temperature               862\n",
              "zone2_temperature               848\n",
              "zone8_temperature               843\n",
              "zone6_temperature               842\n",
              "zone6_humidity                  841\n",
              "atmospheric_pressure            841\n",
              "equipment_energy_consumption    841\n",
              "zone5_temperature               832\n",
              "random_variable1                824\n",
              "random_variable2                823\n",
              "dew_point                       823\n",
              "wind_speed                      822\n",
              "zone4_temperature               811\n",
              "visibility_index                809\n",
              "lighting_energy                 806\n",
              "outdoor_temperature             802\n",
              "zone7_humidity                  800\n",
              "zone1_humidity                  799\n",
              "zone3_temperature               798\n",
              "zone5_humidity                  797\n",
              "outdoor_humidity                794\n",
              "zone7_temperature               787\n",
              "zone8_humidity                  776\n",
              "zone4_humidity                  775\n",
              "zone9_temperature               771\n",
              "timestamp                         0\n",
              "dtype: int64"
            ],
            "text/html": [
              "<div>\n",
              "<style scoped>\n",
              "    .dataframe tbody tr th:only-of-type {\n",
              "        vertical-align: middle;\n",
              "    }\n",
              "\n",
              "    .dataframe tbody tr th {\n",
              "        vertical-align: top;\n",
              "    }\n",
              "\n",
              "    .dataframe thead th {\n",
              "        text-align: right;\n",
              "    }\n",
              "</style>\n",
              "<table border=\"1\" class=\"dataframe\">\n",
              "  <thead>\n",
              "    <tr style=\"text-align: right;\">\n",
              "      <th></th>\n",
              "      <th>0</th>\n",
              "    </tr>\n",
              "  </thead>\n",
              "  <tbody>\n",
              "    <tr>\n",
              "      <th>zone9_humidity</th>\n",
              "      <td>886</td>\n",
              "    </tr>\n",
              "    <tr>\n",
              "      <th>zone3_humidity</th>\n",
              "      <td>877</td>\n",
              "    </tr>\n",
              "    <tr>\n",
              "      <th>zone2_humidity</th>\n",
              "      <td>863</td>\n",
              "    </tr>\n",
              "    <tr>\n",
              "      <th>zone1_temperature</th>\n",
              "      <td>862</td>\n",
              "    </tr>\n",
              "    <tr>\n",
              "      <th>zone2_temperature</th>\n",
              "      <td>848</td>\n",
              "    </tr>\n",
              "    <tr>\n",
              "      <th>zone8_temperature</th>\n",
              "      <td>843</td>\n",
              "    </tr>\n",
              "    <tr>\n",
              "      <th>zone6_temperature</th>\n",
              "      <td>842</td>\n",
              "    </tr>\n",
              "    <tr>\n",
              "      <th>zone6_humidity</th>\n",
              "      <td>841</td>\n",
              "    </tr>\n",
              "    <tr>\n",
              "      <th>atmospheric_pressure</th>\n",
              "      <td>841</td>\n",
              "    </tr>\n",
              "    <tr>\n",
              "      <th>equipment_energy_consumption</th>\n",
              "      <td>841</td>\n",
              "    </tr>\n",
              "    <tr>\n",
              "      <th>zone5_temperature</th>\n",
              "      <td>832</td>\n",
              "    </tr>\n",
              "    <tr>\n",
              "      <th>random_variable1</th>\n",
              "      <td>824</td>\n",
              "    </tr>\n",
              "    <tr>\n",
              "      <th>random_variable2</th>\n",
              "      <td>823</td>\n",
              "    </tr>\n",
              "    <tr>\n",
              "      <th>dew_point</th>\n",
              "      <td>823</td>\n",
              "    </tr>\n",
              "    <tr>\n",
              "      <th>wind_speed</th>\n",
              "      <td>822</td>\n",
              "    </tr>\n",
              "    <tr>\n",
              "      <th>zone4_temperature</th>\n",
              "      <td>811</td>\n",
              "    </tr>\n",
              "    <tr>\n",
              "      <th>visibility_index</th>\n",
              "      <td>809</td>\n",
              "    </tr>\n",
              "    <tr>\n",
              "      <th>lighting_energy</th>\n",
              "      <td>806</td>\n",
              "    </tr>\n",
              "    <tr>\n",
              "      <th>outdoor_temperature</th>\n",
              "      <td>802</td>\n",
              "    </tr>\n",
              "    <tr>\n",
              "      <th>zone7_humidity</th>\n",
              "      <td>800</td>\n",
              "    </tr>\n",
              "    <tr>\n",
              "      <th>zone1_humidity</th>\n",
              "      <td>799</td>\n",
              "    </tr>\n",
              "    <tr>\n",
              "      <th>zone3_temperature</th>\n",
              "      <td>798</td>\n",
              "    </tr>\n",
              "    <tr>\n",
              "      <th>zone5_humidity</th>\n",
              "      <td>797</td>\n",
              "    </tr>\n",
              "    <tr>\n",
              "      <th>outdoor_humidity</th>\n",
              "      <td>794</td>\n",
              "    </tr>\n",
              "    <tr>\n",
              "      <th>zone7_temperature</th>\n",
              "      <td>787</td>\n",
              "    </tr>\n",
              "    <tr>\n",
              "      <th>zone8_humidity</th>\n",
              "      <td>776</td>\n",
              "    </tr>\n",
              "    <tr>\n",
              "      <th>zone4_humidity</th>\n",
              "      <td>775</td>\n",
              "    </tr>\n",
              "    <tr>\n",
              "      <th>zone9_temperature</th>\n",
              "      <td>771</td>\n",
              "    </tr>\n",
              "    <tr>\n",
              "      <th>timestamp</th>\n",
              "      <td>0</td>\n",
              "    </tr>\n",
              "  </tbody>\n",
              "</table>\n",
              "</div><br><label><b>dtype:</b> int64</label>"
            ]
          },
          "metadata": {},
          "execution_count": 376
        }
      ]
    },
    {
      "cell_type": "markdown",
      "source": [
        "Plan for imputation:\n",
        "\n",
        "First check uniue values in object colums to filter then proceed with below steps.\n",
        "\n",
        "- Drop rows where equipment_energy_consumption is missing\n",
        "- Interpolate Time-Based Features\n",
        "- Zone-Wise Sensor Data (Temperature & Humidity)"
      ],
      "metadata": {
        "id": "-xq2l9Okzskg"
      }
    },
    {
      "cell_type": "code",
      "source": [
        "non_numeric_cols = df.select_dtypes(include='object').columns\n",
        "print(\"Object-type columns:\", non_numeric_cols.tolist())"
      ],
      "metadata": {
        "colab": {
          "base_uri": "https://localhost:8080/"
        },
        "outputId": "69ded35c-e6d2-4d36-ffce-ea151b73ebec",
        "id": "bKLHc25460ci"
      },
      "execution_count": 377,
      "outputs": [
        {
          "output_type": "stream",
          "name": "stdout",
          "text": [
            "Object-type columns: ['timestamp', 'equipment_energy_consumption', 'lighting_energy', 'zone1_temperature', 'zone1_humidity', 'zone2_temperature']\n"
          ]
        }
      ]
    },
    {
      "cell_type": "code",
      "source": [
        "df['equipment_energy_consumption'].unique()"
      ],
      "metadata": {
        "colab": {
          "base_uri": "https://localhost:8080/"
        },
        "outputId": "23d2633a-da9e-457e-bb9e-a933c389a83d",
        "id": "QYqAEUXI60cm"
      },
      "execution_count": 378,
      "outputs": [
        {
          "output_type": "execute_result",
          "data": {
            "text/plain": [
              "array(['60.0', '50.0', nan, '70.0', '230.0', '580.0', '430.0', '250.0',\n",
              "       '100.0', '90.0', '80.0', '140.0', '120.0', '190.0', '110.0',\n",
              "       '400.0', '390.0', '240.0', '40.0', '30.0', '310.0', '380.0',\n",
              "       '370.0', '20.0', '-110.0', '260.0', '500.0', '450.0', '220.0',\n",
              "       '170.0', '290.0', '130.0', '200.0', '210.0', '-50.0', '-20.0',\n",
              "       '-944.5664110012307', '350.0', '300.0', '-400.0', '340.0', '150.0',\n",
              "       '330.0', '420.0', '520.0', '360.0', '-270.0', '-30.0', '180.0',\n",
              "       '550.0', '690.0', '620.0', '610.0', '490.0', '410.0', '320.0',\n",
              "       '270.0', '740.0', '910.0', '510.0', '790.0', '1139.9856929495108',\n",
              "       '-40.0', 'error', '460.0', '160.0', '480.0', '280.0', '-220.0',\n",
              "       '560.0', '1080.0', '750.0', '???', '470.0', '440.0', '-80.0',\n",
              "       '800.0', '-790.0', '540.0', '530.0', 'check', '660.0', '630.0',\n",
              "       '600.0', '10.0', '570.0', '830.0', '1070.0', '890.0', '590.0',\n",
              "       '-1139.9856929495108', '850.0', '710.0', '680.0', '-120.0',\n",
              "       '-310.0', 'unknown', '-60.0', '670.0', '780.0', '-450.0', '640.0',\n",
              "       '650.0', '700.0', '-70.0', '-130.0', '-280.0', '-100.0', '-340.0',\n",
              "       '-150.0', '770.0', '-230.0', '720.0', '-250.0', '-680.0', '760.0',\n",
              "       '-140.0', '860.0', '-90.0', '-500.0', '880.0', '-440.0', '730.0',\n",
              "       '900.0', '-330.0', '820.0', '870.0', '-160.0', '840.0', '-610.0',\n",
              "       '-200.0'], dtype=object)"
            ]
          },
          "metadata": {},
          "execution_count": 378
        }
      ]
    },
    {
      "cell_type": "code",
      "source": [
        "df['lighting_energy'].unique()"
      ],
      "metadata": {
        "colab": {
          "base_uri": "https://localhost:8080/"
        },
        "outputId": "838b0966-e35c-493a-8692-03cc425891e5",
        "id": "TIkapMUu60cp"
      },
      "execution_count": 379,
      "outputs": [
        {
          "output_type": "execute_result",
          "data": {
            "text/plain": [
              "array(['-77.78778596503064', '30.0', '40.0', '50.0', '70.0', '60.0',\n",
              "       '10.0', '20.0', nan, '-20.0', '0.0', '86.00296632575207', '???',\n",
              "       '-0.0', 'error', '-10.0', '-40.0', 'check', '-30.0',\n",
              "       '-86.00296632575207', 'unknown'], dtype=object)"
            ]
          },
          "metadata": {},
          "execution_count": 379
        }
      ]
    },
    {
      "cell_type": "code",
      "source": [
        "df['zone1_temperature'].unique()"
      ],
      "metadata": {
        "colab": {
          "base_uri": "https://localhost:8080/"
        },
        "id": "xtnUiLGd7IUy",
        "outputId": "c2191df7-f729-4f6b-b4e2-8e243e5bee66"
      },
      "execution_count": 380,
      "outputs": [
        {
          "output_type": "execute_result",
          "data": {
            "text/plain": [
              "array(['33.74660933896648', '19.89', '19.8566666666667', '19.79',\n",
              "       '19.9266666666667', '20.066666666666695', '20.1333333333333',\n",
              "       '20.26', '20.4266666666667', '20.566666666666695', '20.73',\n",
              "       '20.8566666666667', '20.89', '20.963333333333296',\n",
              "       '21.033333333333296', '21.1', '21.1333333333333', '21.2', '21.29',\n",
              "       '21.3566666666667', '21.39', '21.5', '21.533333333333296', '21.6',\n",
              "       nan, '21.26', '21.1666666666667', '21.075', '21.0',\n",
              "       '20.9266666666667', '20.79', '20.7', '20.6', '20.5', '20.39',\n",
              "       '20.29', '20.23', '20.2', '20.1666666666667', '20.1',\n",
              "       '20.033333333333296', '20.0', 'unknown', '19.823333333333295',\n",
              "       '19.76', '19.7', '19.73', '19.963333333333296', '19.6333333333333',\n",
              "       '19.6666666666667', '19.6', '19.533333333333296', '19.5',\n",
              "       '19.4266666666667', '19.39', '19.323333333333295', '19.29', '19.2',\n",
              "       '19.1', '19.033333333333296', '19.0', '18.963333333333296',\n",
              "       '18.89', '18.865', '18.79', '18.8566666666667', '18.9975',\n",
              "       '19.1333333333333', '19.23', '19.1666666666667',\n",
              "       '19.066666666666695', '19.2675', '19.3566666666667', '19.26',\n",
              "       '19.463333333333296', '18.76', '18.7', '18.6666666666667', '18.6',\n",
              "       '18.533333333333296', '18.5', '18.463333333333296', '18.39',\n",
              "       '18.4266666666667', '18.9175', '19.36', '19.566666666666695',\n",
              "       '20.36', '20.823333333333295', '21.23', '21.463333333333296',\n",
              "       '21.6333333333333', '21.76', '21.945', '22.0', '8.726817924356236',\n",
              "       '22.1', '22.1333333333333', '22.2', '22.1666666666667', '22.26',\n",
              "       '22.323333333333295', '22.463333333333296', '22.73', '22.79',\n",
              "       '22.7', '22.9266666666667', '23.066666666666695', '23.2', '23.39',\n",
              "       '23.5', '23.566666666666695', '23.6', '23.6666666666667', '23.7',\n",
              "       '23.79', '23.73', '23.6333333333333', '23.4266666666667',\n",
              "       '23.323333333333295', '23.29', '23.23', '23.1333333333333', '23.1',\n",
              "       '23.0', '22.89', '22.823333333333295', '22.6666666666667', '22.6',\n",
              "       '22.566666666666695', '22.5', '22.39', '22.3566666666667', '22.29',\n",
              "       '22.066666666666695', '21.9266666666667', '21.89',\n",
              "       '21.8566666666667', '21.79', '21.36', '21.066666666666695',\n",
              "       '20.76', '21.323333333333295', '21.4266666666667',\n",
              "       '21.6666666666667', '21.73', '21.823333333333295',\n",
              "       '21.963333333333296', '22.033333333333296', 'check',\n",
              "       '22.4266666666667', '22.76', '23.033333333333296', '23.26', '21.7',\n",
              "       '21.566666666666695', '21.745', '22.075', '21.65', '21.93',\n",
              "       '22.163333333333295', '22.496666666666705', '22.893333333333295',\n",
              "       '23.175', '23.1666666666667', '22.8566666666667', '22.23',\n",
              "       '21.865', '22.025', '22.445', '20.6333333333333', '20.575',\n",
              "       '20.05', '19.6966666666667', '20.365', '20.463333333333296',\n",
              "       '20.6666666666667', '20.533333333333296', '20.323333333333295',\n",
              "       '19.55', '18.625', '???', '18.9266666666667', '19.15', '19.34',\n",
              "       '18.823333333333295', '18.7675', '18.34', '18.323333333333295',\n",
              "       '18.29', '18.23', '18.2', '18.26', '18.125', '18.1', '18.0',\n",
              "       '17.89', '17.8566666666667', '17.79', '17.7', '17.6', '17.5',\n",
              "       '17.39', '17.4633333333333', '17.5333333333333',\n",
              "       '17.7633333333333', '17.9633333333333', '18.3566666666667',\n",
              "       '18.73', '18.1666666666667', '18.066666666666695',\n",
              "       '18.033333333333296', '19.163333333333295', '20.3566666666667',\n",
              "       '20.075', '19.125', '18.15', '17.8233333333333', '17.73',\n",
              "       '17.6666666666667', '17.5666666666667', '17.3566666666667',\n",
              "       '17.29', '17.23', '17.26', '17.2', '17.1', '17.0', '16.89',\n",
              "       '16.8233333333333', '16.8566666666667', '16.79',\n",
              "       '16.9633333333333', '17.1333333333333', '17.3233333333333',\n",
              "       '17.6333333333333', '17.76', '17.9266666666667',\n",
              "       '18.1333333333333', '18.6333333333333', '17.625', '18.4725',\n",
              "       '18.566666666666695', '20.34', '21.55', '20.15', '19.84', '20.525',\n",
              "       '19.365', '19.315', '18.445', '17.945', '18.175', '19.9175',\n",
              "       '21.245', '20.815', '22.175', '22.533333333333296', '21.575',\n",
              "       '21.025', '22.6333333333333', '22.84', '23.3566666666667',\n",
              "       '23.463333333333296', '23.533333333333296', '23.7633333333333',\n",
              "       '23.963333333333296', '24.0', '24.1', '24.033333333333296',\n",
              "       '24.066666666666695', '23.89', '23.823333333333295', '21.815',\n",
              "       'error', '22.15', '21.365', '21.315', '22.4175', '20.9175',\n",
              "       '22.05', '22.963333333333296', '22.34', '21.675', '21.125',\n",
              "       '21.84', '21.8925', '23.8566666666667', '23.025', '21.525',\n",
              "       '21.43', '20.7675', '22.663333333333295', '20.675', '20.445',\n",
              "       '20.025', '21.15', '21.9', '22.2675', '20.2225', '19.4475',\n",
              "       '21.34', '20.315', '20.84', '21.175', '19.893333333333295',\n",
              "       '19.445', '19.96', '21.53', '21.2675', '20.175', '21.625',\n",
              "       '20.865', '20.125', '20.6975', '20.55', '20.2128571428571',\n",
              "       '20.27', '20.3328571428571', '20.437142857142895',\n",
              "       '20.7514285714286', '20.8275', '20.9214285714286',\n",
              "       '21.0714285714286', '21.0857142857143', '21.1714285714286',\n",
              "       '21.2128571428571', '21.375714285714295', '21.4685714285714',\n",
              "       '21.6571428571429', '21.6142857142857', '21.6428571428571',\n",
              "       '21.6222222222222', '21.6714285714286', '21.7128571428571',\n",
              "       '21.9214285714286', '22.0875', '22.1857142857143',\n",
              "       '22.2385714285714', '22.3185714285714', '22.375714285714295',\n",
              "       '22.4214285714286', '22.452857142857095', '21.83',\n",
              "       '21.514285714285695', '21.445', '21.3185714285714', '21.275',\n",
              "       '21.1571428571429', '21.05', '20.937142857142895',\n",
              "       '20.683333333333305', '20.5833333333333', '20.4214285714286',\n",
              "       '20.5714285714286', '20.62', '20.775', '20.956', '20.98625',\n",
              "       '20.77875', '20.8185714285714', '20.9685714285714',\n",
              "       '20.952857142857095', '20.9057142857143', '20.945',\n",
              "       '21.347142857142895', '21.4214285714286', '21.5714285714286',\n",
              "       '21.5166666666667', '20.4175', '19.525', '19.7675', '20.625',\n",
              "       '20.96', '21.9475', '22.36', '21.4725', '22.0966666666667',\n",
              "       '22.65', '21.9175', '21.226666666666695', '21.7675', '23.03',\n",
              "       '22.9725', '22.55', '21.9725', '23.525', '22.315', '21.7225',\n",
              "       '23.65', '23.365', '22.245', '21.4175', '22.625', '23.34',\n",
              "       '22.2225', '21.2225', '22.726666666666695', '22.365', '23.05',\n",
              "       '22.945', '22.7933333333333', '22.815', '22.525', '22.675',\n",
              "       '22.226666666666695', '22.9175', '20.745', '20.46', '23.3',\n",
              "       '22.7225', '23.315', '23.76', '23.2225', '23.9266666666667',\n",
              "       '24.1333333333333', '24.2', '23.84', '24.29', '24.315', '24.39',\n",
              "       '24.5', '24.566666666666695', '24.6', '24.6666666666667', '24.7',\n",
              "       '24.76', '24.73', '24.79', '24.89', '24.823333333333295',\n",
              "       '24.4266666666667', '24.23', '24.125'], dtype=object)"
            ]
          },
          "metadata": {},
          "execution_count": 380
        }
      ]
    },
    {
      "cell_type": "code",
      "source": [
        "df['zone1_humidity'].unique()"
      ],
      "metadata": {
        "colab": {
          "base_uri": "https://localhost:8080/"
        },
        "id": "wiVSYM5O9A4D",
        "outputId": "8197ac04-a75c-4855-f292-d6d3c10ff073"
      },
      "execution_count": 381,
      "outputs": [
        {
          "output_type": "execute_result",
          "data": {
            "text/plain": [
              "array(['47.59666666666671', '46.69333333333329', '46.3', ...,\n",
              "       '37.26333333333329', '38.323333333333295', '38.33'], dtype=object)"
            ]
          },
          "metadata": {},
          "execution_count": 381
        }
      ]
    },
    {
      "cell_type": "code",
      "source": [
        "df['zone2_temperature'].unique()"
      ],
      "metadata": {
        "colab": {
          "base_uri": "https://localhost:8080/"
        },
        "id": "q8Ln40YM9FoJ",
        "outputId": "7b52af68-8248-4765-be21-80134d769c5a"
      },
      "execution_count": 382,
      "outputs": [
        {
          "output_type": "execute_result",
          "data": {
            "text/plain": [
              "array(['19.2', '19.23', '19.3566666666667', '19.4266666666667',\n",
              "       '19.566666666666695', '19.73', '19.8566666666667',\n",
              "       '20.033333333333296', '20.1666666666667', '20.2', nan, '20.26',\n",
              "       '20.29', '20.3566666666667', '20.4266666666667', '20.5',\n",
              "       '20.533333333333296', '20.6666666666667', '???', '20.7', '20.79',\n",
              "       '20.89', '20.963333333333296', '21.0', '20.9266666666667',\n",
              "       '20.6333333333333', '20.6', '20.39', '20.1', '20.0', '19.89',\n",
              "       '19.823333333333295', '19.79', '19.76', '19.7', '19.6333333333333',\n",
              "       '19.6', '19.5', '19.39', '19.29', '19.218', '19.175', '19.1',\n",
              "       '19.066666666666695', '19.0222222222222', '19.033333333333296',\n",
              "       '19.0', '18.963333333333296', '18.89', '18.9266666666667', '19.15',\n",
              "       '19.1363636363636', '19.13', '19.0375', '19.007692307692295',\n",
              "       '18.99', '18.9022222222222', '18.8566666666667', '19.245', '19.37',\n",
              "       '19.0444444444444', '18.910625', '18.8081818181818', '18.79',\n",
              "       '18.775', '18.7', '18.690909090909095', '18.6777777777778',\n",
              "       '18.6428571428571', '18.6', '18.588888888888896', '18.5',\n",
              "       '18.4830769230769', '18.4938888888889', '18.4205555555556',\n",
              "       '18.3961111111111', '18.39', '18.3718181818182',\n",
              "       '18.307647058823495', '18.3429411764706', '18.34', '18.29',\n",
              "       '36.55288237266245', '18.245', '18.2', '18.1727272727273',\n",
              "       '18.1818181818182', '18.15', '18.1', '18.05', '18.0',\n",
              "       '18.066666666666695', '18.1333333333333', '18.26',\n",
              "       '18.323333333333295', '18.463333333333296', '18.6666666666667',\n",
              "       '18.76', '18.6333333333333', '18.4266666666667', '18.73',\n",
              "       '18.823333333333295', '19.1666666666667', '19.1333333333333',\n",
              "       '2.9881989040997503', '18.533333333333296', '18.033333333333296',\n",
              "       '17.9633333333333', '17.89', '17.79', '17.76', '17.7',\n",
              "       '17.9266666666667', '18.025', '18.23', '18.566666666666695',\n",
              "       '19.323333333333295', '19.463333333333296', '19.8925',\n",
              "       '20.066666666666695', '20.1333333333333', '20.463333333333296',\n",
              "       '20.566666666666695', '20.73', '21.066666666666695', '21.1',\n",
              "       '21.075', '20.823333333333295', '21.1333333333333', '21.29',\n",
              "       '21.3566666666667', '21.5', '21.566666666666695',\n",
              "       '21.6333333333333', '21.7', '21.73', '21.79', '21.823333333333295',\n",
              "       '21.89', '21.76', '21.8566666666667', '22.1', '22.175', '22.26',\n",
              "       '22.39', '22.463333333333296', '22.6', '22.6666666666667', '22.7',\n",
              "       '22.73', '22.79', '22.5', '22.4266666666667', '22.323333333333295',\n",
              "       '22.2', '22.1666666666667', '22.0', '21.9266666666667', '21.625',\n",
              "       '21.533333333333296', '21.4266666666667', '21.39',\n",
              "       '21.323333333333295', '21.2', '20.296666666666695', '19.63',\n",
              "       '19.53', '19.66', '19.9266666666667', '20.351111111111095',\n",
              "       '20.445', '20.5833333333333', '20.625', '20.710625', '20.85875',\n",
              "       '20.9327777777778', '21.038888888888895', '21.088888888888896',\n",
              "       '21.1111111111111', '21.1722222222222', '21.275',\n",
              "       '21.4877777777778', '21.561111111111096', '21.65', '21.715',\n",
              "       '21.83', '21.8677777777778', '21.956', '22.1975', '22.29', '22.15',\n",
              "       '22.033333333333296', '21.6666666666667', '21.6',\n",
              "       '21.463333333333296', '21.2675', '20.575', '20.315',\n",
              "       '20.8566666666667', '21.033333333333296', '21.15', '21.26', '21.3',\n",
              "       '20.76', 'error', '20.679', '21.04', '21.2864285714286',\n",
              "       '21.5594444444444', '21.7927777777778', '21.9572222222222',\n",
              "       '22.011111111111095', '22.09375', '22.1333333333333',\n",
              "       '21.963333333333296', '20.323333333333295', '21.1966666666667',\n",
              "       '20.775', '20.416', '20.0966666666667', '19.7633333333333',\n",
              "       '19.9842857142857', '20.08125', '20.1461538461538',\n",
              "       '20.3185714285714', '20.434', '20.365', '20.23', '20.15', '20.075',\n",
              "       '20.4541666666667', '20.51875', '20.60625', '20.7064285714286',\n",
              "       '20.7736363636364', '20.7818181818182', '20.9175',\n",
              "       '19.6666666666667', '19.533333333333296', '18.3566666666667',\n",
              "       '18.175', '17.8233333333333', '18.2925', '19.26',\n",
              "       '19.6727272727273', '19.625', '17.8566666666667',\n",
              "       '17.6666666666667', '17.6', '17.5', '17.4633333333333', '17.39',\n",
              "       '17.3566666666667', '17.29', '17.26', '17.2', '17.1333333333333',\n",
              "       '17.4266666666667', 'unknown', '17.73', '17.7225',\n",
              "       '17.6333333333333', '17.23', '17.1666666666667', '17.1',\n",
              "       '17.0666666666667', '17.0', '16.89', '16.79', '16.9633333333333',\n",
              "       '16.8233333333333', '16.76', '16.7', '16.6', '16.5666666666667',\n",
              "       '16.55', '16.5', '16.4266666666667', '16.39', '16.6333333333333',\n",
              "       '16.96', '17.2225', '17.6633333333333', '18.1666666666667',\n",
              "       '17.745', '16.9266666666667', '17.3233333333333',\n",
              "       '17.5333333333333', '19.963333333333296', '19.865', '18.625',\n",
              "       '17.865', '17.365', 'check', '16.8566666666667', '16.745',\n",
              "       '16.5333333333333', '16.4633333333333', '16.4175',\n",
              "       '16.3566666666667', '16.29', '16.23', '16.26', '16.2',\n",
              "       '16.1333333333333', '16.1', '16.9975', '17.0333333333333',\n",
              "       '18.1975', '20.3266666666667', '20.46', '21.1666666666667',\n",
              "       '21.23', '19.7225', '20.4725', '19.7675', '19.9725', '18.9175',\n",
              "       '18.65', '19.025', '18.55', '19.9175', '19.4725', '20.36', '20.65',\n",
              "       '21.53', '21.13', '21.226666666666695', '22.125',\n",
              "       '20.7633333333333', '21.34', '22.566666666666695',\n",
              "       '22.6333333333333', '22.8566666666667', '22.89',\n",
              "       '22.9266666666667', '23.0', '23.066666666666695', '23.1', '23.2',\n",
              "       '23.1333333333333', '22.823333333333295', '22.745', '22.23',\n",
              "       '20.9425', '20.5225', '20.86', '21.2633333333333', '20.9725',\n",
              "       '21.4175', '21.745', '20.87', '22.066666666666695', '22.2225',\n",
              "       '22.533333333333296', '22.34', '20.84', '20.525',\n",
              "       '22.3566666666667', '20.745', '20.4175', '22.226666666666695',\n",
              "       '22.575', '22.03', '22.8266666666667', '23.23', '23.3566666666667',\n",
              "       '23.39', '23.463333333333296', '23.533333333333296', '23.6',\n",
              "       '23.5', '23.4266666666667', '23.29', '22.963333333333296',\n",
              "       '20.4214285714286', '20.05', '19.945', '21.125', '19.86', '20.96',\n",
              "       '19.675', '19.726666666666695', '19.6975', '18.726666666666695',\n",
              "       '18.995', '20.675', '20.175', '18.36', '19.18', '19.315',\n",
              "       '17.5666666666667', '17.525', '17.86', '19.84', '19.895',\n",
              "       '17.9975', '18.226666666666695', '18.53', '19.2225', '19.55',\n",
              "       '18.675', '18.125', '18.96', '19.495', '21.55', '20.55', '19.525',\n",
              "       '19.745', '20.025', '18.945', '18.815', '19.445', '18.575',\n",
              "       '19.4175', '20.2225', '20.226666666666695', '17.32', '17.96',\n",
              "       '19.125', '19.65', '18.86', '18.6966666666667', '19.5625',\n",
              "       '19.77875', '19.952857142857095', '20.0625', '20.0857142857143',\n",
              "       '20.0714285714286', '20.0571428571429', '19.90375',\n",
              "       '20.2514285714286', '20.347142857142895', '20.452857142857095',\n",
              "       '20.542857142857095', '20.6428571428571', '20.937142857142895',\n",
              "       '20.9685714285714', '20.8328571428571', '20.7257142857143',\n",
              "       '20.6571428571429', '20.5571428571429', '20.1571428571429',\n",
              "       '20.1142857142857', '19.937142857142895', '19.8328571428571',\n",
              "       '19.7128571428571', '19.6571428571429', '19.5714285714286',\n",
              "       '19.4842857142857', '19.183333333333305', '19.0875',\n",
              "       '18.937142857142895', '18.8328571428571', '18.5571428571429',\n",
              "       '18.6285714285714', '18.6857142857143', '18.73375',\n",
              "       '18.8614285714286', '19.0285714285714', '19.1285714285714',\n",
              "       '19.21125', '19.34', '19.52', '19.6857142857143', '19.75625',\n",
              "       '19.908333333333296', '20.092857142857095', '19.2685714285714',\n",
              "       '19.1142857142857', '19.264285714285695', '19.4214285714286',\n",
              "       '19.527142857142895', '19.736', '19.90875', '19.437142857142895',\n",
              "       '19.347142857142895', '19.2128571428571', '19.1428571428571',\n",
              "       '19.05', '18.2225', '17.945', '17.84', '16.6666666666667', '17.65',\n",
              "       '18.43', '19.365', '17.34', '17.8266666666667',\n",
              "       '18.163333333333295', '19.075', '16.945', '16.3233333333333',\n",
              "       '17.075', '16.365', '17.13', '17.5966666666667',\n",
              "       '18.1966666666667', '19.226666666666695', '19.6933333333333',\n",
              "       '17.815', '16.865', '17.2266666666667', '18.663333333333295',\n",
              "       '17.245', '16.73', '17.36', '18.395', '19.46', '19.2633333333333',\n",
              "       '19.366666666666696', '19.9', '19.36', '16.84', '16.9966666666667',\n",
              "       '17.3933333333333', '17.7933333333333', '18.3', '19.3266666666667',\n",
              "       '19.663333333333295', '19.93', '20.6975', '20.6933333333333',\n",
              "       '21.495', '21.156666666666695', '16.7225', '17.0966666666667',\n",
              "       '17.6225', '18.1933333333333', '19.0966666666667',\n",
              "       '19.6966666666667', '20.03', '20.2633333333333', '21.05',\n",
              "       '20.4666666666667', '20.156666666666695', '20.5566666666667',\n",
              "       '17.2633333333333', '17.9933333333333', '18.3266666666667',\n",
              "       '18.8266666666667', '19.43', '19.8425', '20.2675',\n",
              "       '18.0233333333333', '18.5633333333333', '19.496666666666705',\n",
              "       '19.96', '20.2933333333333', '20.5966666666667',\n",
              "       '21.163333333333295', '21.445', '18.7675', '18.233333333333295',\n",
              "       '19.3', '20.4', '20.8425', '21.03', '21.43', '20.9933333333333',\n",
              "       '21.3266666666667', '20.815', '20.245', '18.525',\n",
              "       '18.8333333333333', '19.456666666666695', '20.0633333333333',\n",
              "       '20.63', '21.46', '21.86', '22.675', '18.745', '19.2675',\n",
              "       '19.8266666666667', '18.445', '18.365', '19.5966666666667',\n",
              "       '20.123333333333296', '20.8', '21.7675', '20.43', '20.93',\n",
              "       '21.3925', '21.175', '21.245', '20.945', '19.9933333333333',\n",
              "       '20.4975', '21.36', '22.36', '23.05', '21.865',\n",
              "       '20.393333333333295', '20.933333333333305', '21.63',\n",
              "       '22.0966666666667', '22.495', '22.86', '23.7', '23.79',\n",
              "       '23.8566666666667', '23.89', '23.823333333333295', '23.675',\n",
              "       '23.26', '23.1666666666667', '22.76', '20.53', '21.0966666666667',\n",
              "       '22.315', '18.075', '19.393333333333295', '20.8266666666667',\n",
              "       '21.675', '19.725', '21.7925', '19.03', '19.593333333333305',\n",
              "       '21.233333333333295', '21.6933333333333', '22.1966666666667',\n",
              "       '22.595', '23.6333333333333', '23.76', '23.566666666666695',\n",
              "       '21.3966666666667', '22.123333333333296', '22.6966666666667',\n",
              "       '23.323333333333295', '23.6666666666667', '23.73',\n",
              "       '20.8633333333333', '21.8966666666667', '22.496666666666705',\n",
              "       '23.3266666666667', '23.663333333333295', '23.93',\n",
              "       '24.1333333333333', '24.26', '24.29', '24.23', '24.2', '24.2675',\n",
              "       '24.323333333333295', '24.39', '24.5', '24.6',\n",
              "       '24.463333333333296', '24.066666666666695', '23.9266666666667',\n",
              "       '23.4175', '18.8925', '20.2233333333333', '21.93', '21.1975',\n",
              "       '21.395', '22.075', '17.9175', '18.4975', '18.93',\n",
              "       '20.366666666666696', '20.9666666666667', '21.9',\n",
              "       '22.163333333333295', '22.365', '18.7225', '18.5233333333333',\n",
              "       '19.6266666666667', '20.56', '22.5966666666667', '22.9975',\n",
              "       '23.8266666666667', '21.575', '20.163333333333295',\n",
              "       '20.496666666666705', '22.55', '20.125', '18.4933333333333',\n",
              "       '19.093333333333305', '19.866666666666696', '20.66',\n",
              "       '22.7633333333333', '23.0966666666667', '23.46',\n",
              "       '24.033333333333296', '24.1666666666667', '24.1', '24.0', '22.245',\n",
              "       '21.45', '22.43', '22.4', '22.893333333333295', '23.34',\n",
              "       '23.033333333333296', '22.46', '22.815', '22.2675', '20.9',\n",
              "       '21.5566666666667', '17.675', '19.9975', '18.25', '18.9',\n",
              "       '19.8966666666667', '18.893333333333295', '17.395',\n",
              "       '17.6966666666667', '18.8', '20.1933333333333',\n",
              "       '20.866666666666696', '21.4666666666667', '21.96',\n",
              "       '21.866666666666696', '21.7633333333333', '17.7675',\n",
              "       '18.7633333333333', '21.025', '17.8666666666667', '18.66',\n",
              "       '20.956666666666695', '21.5633333333333', '23.4725', '18.6725',\n",
              "       '20.8333333333333', '22.3333333333333', '23.7633333333333',\n",
              "       '24.4266666666667', '24.6333333333333', '24.823333333333295',\n",
              "       '24.89', '25.1', '25.0', '24.9266666666667', '24.76', '24.7',\n",
              "       '24.3566666666667', '23.84', '19.996666666666705',\n",
              "       '21.956666666666695', '22.5633333333333', '23.3333333333333',\n",
              "       '23.7933333333333', '24.1966666666667', '24.5966666666667',\n",
              "       '25.066666666666695', '25.26', '25.4266666666667',\n",
              "       '25.6333333333333', '25.73', '25.865', '25.89', '25.8566666666667',\n",
              "       '25.79', '25.7', '25.6', '25.533333333333296', '25.3566666666667',\n",
              "       '25.23', '25.033333333333296', '24.8566666666667', '24.73',\n",
              "       '24.6666666666667', '24.533333333333296', '23.963333333333296',\n",
              "       '21.84', '20.16', '21.0566666666667', '21.656666666666695',\n",
              "       '22.456666666666695', '23.123333333333296', '23.9',\n",
              "       '24.5566666666667', '25.03', '25.4933333333333',\n",
              "       '25.8266666666667', '26.1333333333333', '26.3266666666667',\n",
              "       '26.4266666666667', '26.566666666666695', '26.6333333333333',\n",
              "       '26.65', '26.5225', '26.163333333333295', '25.5',\n",
              "       '25.566666666666695', '25.463333333333296', '25.39', '25.29',\n",
              "       '25.1666666666667', '23.945', '20.2475', '21.296666666666695',\n",
              "       '21.9933333333333', '22.4666666666667', '23.3', '25.9',\n",
              "       '26.2633333333333', '26.463333333333296', '26.7633333333333',\n",
              "       '26.89', '27.0', '27.066666666666695', '26.9266666666667', '26.76',\n",
              "       '26.445', '26.26', '26.0', '25.9266666666667', '25.6666666666667',\n",
              "       '25.43', '24.79', '21.123333333333296', '22.13',\n",
              "       '23.2233333333333', '24.0233333333333', '24.496666666666705',\n",
              "       '24.86', '26.29', '27.05', '27.1', '26.963333333333296', '26.79',\n",
              "       '26.7', '26.6666666666667', '26.533333333333296', '26.39',\n",
              "       '26.3566666666667', '26.1666666666667', '26.033333333333296',\n",
              "       '25.745', '25.2', '25.1333333333333', '25.025',\n",
              "       '24.963333333333296', '24.042857142857095', '24.06',\n",
              "       '24.0857142857143', '22.625'], dtype=object)"
            ]
          },
          "metadata": {},
          "execution_count": 382
        }
      ]
    },
    {
      "cell_type": "markdown",
      "source": [
        "### Convert these columns to numeric"
      ],
      "metadata": {
        "id": "QNG_HAxI9N_i"
      }
    },
    {
      "cell_type": "code",
      "source": [
        "df['timestamp'] = pd.to_datetime(df['timestamp'], errors='coerce')"
      ],
      "metadata": {
        "colab": {
          "base_uri": "https://localhost:8080/"
        },
        "id": "pn0Bd4Q5-C_5",
        "outputId": "c6327860-9c71-4f23-d9db-f66f08506894"
      },
      "execution_count": 383,
      "outputs": [
        {
          "output_type": "stream",
          "name": "stderr",
          "text": [
            "<ipython-input-383-6b1e6b0a678c>:1: SettingWithCopyWarning: \n",
            "A value is trying to be set on a copy of a slice from a DataFrame.\n",
            "Try using .loc[row_indexer,col_indexer] = value instead\n",
            "\n",
            "See the caveats in the documentation: https://pandas.pydata.org/pandas-docs/stable/user_guide/indexing.html#returning-a-view-versus-a-copy\n",
            "  df['timestamp'] = pd.to_datetime(df['timestamp'], errors='coerce')\n"
          ]
        }
      ]
    },
    {
      "cell_type": "code",
      "source": [
        "for col in non_numeric_cols.tolist()[1:]:\n",
        "  df[col] = pd.to_numeric(df[col], errors='coerce')"
      ],
      "metadata": {
        "id": "PraTmx6p9arD"
      },
      "execution_count": 384,
      "outputs": []
    },
    {
      "cell_type": "code",
      "source": [
        "df = df.dropna(subset=[\"equipment_energy_consumption\"])"
      ],
      "metadata": {
        "id": "Gsj4Kp61-Q0D"
      },
      "execution_count": 385,
      "outputs": []
    },
    {
      "cell_type": "code",
      "source": [
        "df = df[df['equipment_energy_consumption'] > 0]"
      ],
      "metadata": {
        "id": "M0ekxYe2A3V5"
      },
      "execution_count": 386,
      "outputs": []
    },
    {
      "cell_type": "code",
      "source": [
        "import matplotlib.pyplot as plt\n",
        "\n",
        "plt.figure(figsize=(14, 6))\n",
        "plt.subplot(1, 2, 1)\n",
        "df['equipment_energy_consumption'].hist(bins=30, alpha=0.7, color='blue', label='After Dropping')\n",
        "plt.title('Distribution of Equipment Energy Consumption (After Drop)')\n",
        "plt.xlabel('Equipment Energy Consumption')\n",
        "plt.ylabel('Frequency')\n",
        "\n",
        "\n",
        "df_original = pd.read_csv('data.csv')\n",
        "\n",
        "plt.subplot(1, 2, 2)\n",
        "df_original['equipment_energy_consumption'].hist(bins=30, alpha=0.7, color='red', label='Before Drop')\n",
        "plt.title('Distribution of Equipment Energy Consumption (Before Drop)')\n",
        "plt.xlabel('Equipment Energy Consumption')\n",
        "plt.ylabel('Frequency')\n",
        "\n",
        "plt.tight_layout()\n",
        "plt.show()\n"
      ],
      "metadata": {
        "colab": {
          "base_uri": "https://localhost:8080/",
          "height": 489
        },
        "outputId": "a57f7964-5a95-4c03-c46a-8ec850b328b9",
        "id": "k9lK2NGg60co"
      },
      "execution_count": 387,
      "outputs": [
        {
          "output_type": "display_data",
          "data": {
            "text/plain": [
              "<Figure size 1400x600 with 2 Axes>"
            ],
            "image/png": "[encoded data removed]"
          },
          "metadata": {}
        }
      ]
    },
    {
      "cell_type": "code",
      "source": [
        "df.shape"
      ],
      "metadata": {
        "colab": {
          "base_uri": "https://localhost:8080/"
        },
        "id": "6VpFw6n6Dgr7",
        "outputId": "49b4a74f-9586-4d16-e284-25a48860c7f0"
      },
      "execution_count": 388,
      "outputs": [
        {
          "output_type": "execute_result",
          "data": {
            "text/plain": [
              "(15567, 29)"
            ]
          },
          "metadata": {},
          "execution_count": 388
        }
      ]
    },
    {
      "cell_type": "code",
      "source": [
        "plt.hist(df['zone6_humidity'], bins=100);"
      ],
      "metadata": {
        "colab": {
          "base_uri": "https://localhost:8080/",
          "height": 430
        },
        "id": "fWfZXX1rBjGb",
        "outputId": "b6e3cd2e-d391-4cdb-9cab-259ac882b10c"
      },
      "execution_count": 389,
      "outputs": [
        {
          "output_type": "display_data",
          "data": {
            "text/plain": [
              "<Figure size 640x480 with 1 Axes>"
            ],
            "image/png": "[encoded data removed]"
          },
          "metadata": {}
        }
      ]
    },
    {
      "cell_type": "code",
      "source": [
        "plt.hist(df['wind_speed']);"
      ],
      "metadata": {
        "colab": {
          "base_uri": "https://localhost:8080/",
          "height": 430
        },
        "id": "Vm8s9kLxEJkO",
        "outputId": "08639b82-0b41-44ec-fc19-3baeafa29339"
      },
      "execution_count": 390,
      "outputs": [
        {
          "output_type": "display_data",
          "data": {
            "text/plain": [
              "<Figure size 640x480 with 1 Axes>"
            ],
            "image/png": "[encoded data removed]"
          },
          "metadata": {}
        }
      ]
    },
    {
      "cell_type": "code",
      "source": [
        "plt.hist(df['visibility_index'], bins=100);"
      ],
      "metadata": {
        "colab": {
          "base_uri": "https://localhost:8080/",
          "height": 430
        },
        "id": "US_kjXzuEWaJ",
        "outputId": "f1ae9b9b-1d42-47b5-c34f-2d585f62e760"
      },
      "execution_count": 391,
      "outputs": [
        {
          "output_type": "display_data",
          "data": {
            "text/plain": [
              "<Figure size 640x480 with 1 Axes>"
            ],
            "image/png": "[encoded data removed]"
          },
          "metadata": {}
        }
      ]
    },
    {
      "cell_type": "code",
      "source": [
        "humidity_cols = [col for col in df.columns if 'humidity' in col]\n",
        "for col in humidity_cols:\n",
        "    df[col] = pd.to_numeric(df[col], errors='coerce')\n",
        "    df.loc[df[col] < 0, col] = np.nan\n",
        "\n",
        "df.loc[df['lighting_energy']<0, 'lighting_energy'] = np.nan\n",
        "df.loc[df['wind_speed']<0, 'wind_speed'] = np.nan\n",
        "df.loc[df['visibility_index']<0, 'visibility_index'] = np.nan"
      ],
      "metadata": {
        "id": "-z6WcHw9ERuT"
      },
      "execution_count": 392,
      "outputs": []
    },
    {
      "cell_type": "code",
      "source": [
        "df.shape"
      ],
      "metadata": {
        "colab": {
          "base_uri": "https://localhost:8080/"
        },
        "id": "fdgBqBcaEv82",
        "outputId": "3b6e8e0d-0b00-41dd-e7d7-73f0940f27c0"
      },
      "execution_count": 393,
      "outputs": [
        {
          "output_type": "execute_result",
          "data": {
            "text/plain": [
              "(15567, 29)"
            ]
          },
          "metadata": {},
          "execution_count": 393
        }
      ]
    },
    {
      "cell_type": "code",
      "source": [],
      "metadata": {
        "id": "7o31aBhzEv6x"
      },
      "execution_count": null,
      "outputs": []
    },
    {
      "cell_type": "code",
      "source": [],
      "metadata": {
        "id": "ipeEccNlEv4J"
      },
      "execution_count": null,
      "outputs": []
    },
    {
      "cell_type": "code",
      "source": [
        "df.set_index('timestamp', inplace=True)"
      ],
      "metadata": {
        "id": "z-IfiQeE1k6T"
      },
      "execution_count": 181,
      "outputs": []
    },
    {
      "cell_type": "code",
      "source": [
        "features_to_interpolate = [\n",
        "    'outdoor_temperature', 'outdoor_humidity', 'dew_point',\n",
        "    'wind_speed', 'atmospheric_pressure', 'visibility_index',\n",
        "    'lighting_energy'\n",
        "]\n",
        "\n",
        "df = df.sort_values('timestamp')\n",
        "df[features_to_interpolate] = df[features_to_interpolate].interpolate(method='time')\n"
      ],
      "metadata": {
        "id": "p7d9B4g81qjJ"
      },
      "execution_count": 182,
      "outputs": []
    },
    {
      "cell_type": "code",
      "source": [
        "# zone_columns = [col for col in df.columns if 'zone' in col]\n",
        "# imputer = SimpleImputer(strategy='median')\n",
        "# df[zone_columns] = imputer.fit_transform(df[zone_columns])\\\n",
        "\n",
        "# Got error"
      ],
      "metadata": {
        "id": "oPN8xDBB1x9x"
      },
      "execution_count": 183,
      "outputs": []
    }
  ]
}